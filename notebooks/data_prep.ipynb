{
 "cells": [
  {
   "cell_type": "markdown",
   "id": "802f49e7",
   "metadata": {},
   "source": [
    "# Load Libs"
   ]
  },
  {
   "cell_type": "code",
   "execution_count": 2,
   "id": "1ce519b8",
   "metadata": {},
   "outputs": [],
   "source": [
    "%load_ext autoreload\n",
    "%autoreload 2"
   ]
  },
  {
   "cell_type": "code",
   "execution_count": 3,
   "id": "2208fd0e",
   "metadata": {},
   "outputs": [
    {
     "name": "stdout",
     "output_type": "stream",
     "text": [
      "/home/jupyter/binance-alert/script\n"
     ]
    }
   ],
   "source": [
    "cd /home/jupyter/binance-alert/script"
   ]
  },
  {
   "cell_type": "code",
   "execution_count": 4,
   "id": "1f82f21e",
   "metadata": {},
   "outputs": [
    {
     "data": {
      "text/plain": [
       "True"
      ]
     },
     "execution_count": 4,
     "metadata": {},
     "output_type": "execute_result"
    }
   ],
   "source": [
    "from binance.client import Client\n",
    "import os\n",
    "from dotenv import load_dotenv\n",
    "import pandas as pd\n",
    "from helper import standardise_column_names\n",
    "load_dotenv()"
   ]
  },
  {
   "cell_type": "code",
   "execution_count": 5,
   "id": "0f6e1442",
   "metadata": {},
   "outputs": [],
   "source": [
    "api_key = os.environ.get('BINANCE_ALEX_API_KEY')\n",
    "api_secret = os.environ.get('BINANCE_ALEX_API_SECRET')"
   ]
  },
  {
   "cell_type": "code",
   "execution_count": 6,
   "id": "d2604864",
   "metadata": {},
   "outputs": [],
   "source": [
    "client = Client(api_key, api_secret)"
   ]
  },
  {
   "cell_type": "markdown",
   "id": "03d4960f",
   "metadata": {},
   "source": [
    "## Get data"
   ]
  },
  {
   "cell_type": "code",
   "execution_count": 12,
   "id": "287cb099",
   "metadata": {},
   "outputs": [],
   "source": [
    "klines = client.get_historical_klines(\"BTCUSDT\", Client.KLINE_INTERVAL_5MINUTE, \"1 Jan, 2019\")\n",
    "\n",
    "\n",
    "def format_klines(klines, symbol=''):\n",
    "    columns = [\n",
    "            'Open time',\n",
    "            'Open',\n",
    "            'High',\n",
    "            'Low',\n",
    "            'Close',\n",
    "            'Volume',\n",
    "            'Close time',\n",
    "            'Quote asset volume',\n",
    "            'Number of trades',\n",
    "            'Taker buy base asset volume',\n",
    "            'Taker buy quote asset volume',\n",
    "            'Can be ignored', ]\n",
    "\n",
    "    df_data_coin = pd.DataFrame(klines)\n",
    "    df_data_coin.columns = columns\n",
    "    df_data_coin = standardise_column_names(df_data_coin)\n",
    "    df_data_coin = df_data_coin.astype(float)\n",
    "\n",
    "    df_data_coin.open_time = df_data_coin['open_time'].values.astype(\n",
    "        dtype='datetime64[ms]')\n",
    "    df_data_coin.close_time = df_data_coin['close_time'].values.astype(\n",
    "        dtype='datetime64[ms]')\n",
    "\n",
    "    df_data_coin.loc[:, 'symbol'] = symbol\n",
    "    return df_data_coin\n",
    "\n",
    "df_data = format_klines(klines, symbol='BTCUSDT')\n",
    "df_data.to_csv('btcusd_5min.zip', index=False)"
   ]
  },
  {
   "cell_type": "markdown",
   "id": "b7be0677",
   "metadata": {},
   "source": [
    "## Read Data"
   ]
  },
  {
   "cell_type": "code",
   "execution_count": 9,
   "id": "21c7762e",
   "metadata": {},
   "outputs": [],
   "source": [
    "df_data = pd.read_csv('/home/jupyter/trading-strat/data/btcusd_5min.zip')"
   ]
  },
  {
   "cell_type": "code",
   "execution_count": 11,
   "id": "003583f9",
   "metadata": {},
   "outputs": [],
   "source": [
    "df_data.open_time = df_data['open_time'].values.astype(\n",
    "        dtype='datetime64[ms]')\n",
    "df_data.close_time = df_data['close_time'].values.astype(\n",
    "        dtype='datetime64[ms]')"
   ]
  },
  {
   "cell_type": "markdown",
   "id": "d4ecf3fc",
   "metadata": {},
   "source": [
    "## Target variable"
   ]
  },
  {
   "cell_type": "code",
   "execution_count": 12,
   "id": "66ece18d",
   "metadata": {},
   "outputs": [],
   "source": [
    "df_data['percent_change_intra_period'] = 100 * (df_data['close'] - df_data['open']) / df_data['open']"
   ]
  },
  {
   "cell_type": "code",
   "execution_count": 13,
   "id": "4d84b9db",
   "metadata": {},
   "outputs": [
    {
     "data": {
      "text/plain": [
       "<matplotlib.axes._subplots.AxesSubplot at 0x7f186af75790>"
      ]
     },
     "execution_count": 13,
     "metadata": {},
     "output_type": "execute_result"
    },
    {
     "data": {
      "image/png": "[encoded data removed]",
      "text/plain": [
       "<Figure size 432x288 with 1 Axes>"
      ]
     },
     "metadata": {
      "needs_background": "light"
     },
     "output_type": "display_data"
    }
   ],
   "source": [
    "df_data['percent_change_intra_period'].plot()"
   ]
  },
  {
   "cell_type": "code",
   "execution_count": 14,
   "id": "ecfbb911",
   "metadata": {},
   "outputs": [
    {
     "data": {
      "text/plain": [
       "count    311501.000000\n",
       "mean          0.001106\n",
       "std           0.254039\n",
       "min         -10.197762\n",
       "25%          -0.091774\n",
       "50%           0.000261\n",
       "75%           0.093953\n",
       "max          18.428847\n",
       "Name: percent_change_intra_period, dtype: float64"
      ]
     },
     "execution_count": 14,
     "metadata": {},
     "output_type": "execute_result"
    }
   ],
   "source": [
    "df_data['percent_change_intra_period'].describe()"
   ]
  },
  {
   "cell_type": "code",
   "execution_count": 15,
   "id": "b907e043",
   "metadata": {},
   "outputs": [
    {
     "data": {
      "text/plain": [
       "<matplotlib.axes._subplots.AxesSubplot at 0x7f1874fd3e90>"
      ]
     },
     "execution_count": 15,
     "metadata": {},
     "output_type": "execute_result"
    },
    {
     "data": {
      "image/png": "[encoded data removed]",
      "text/plain": [
       "<Figure size 432x288 with 1 Axes>"
      ]
     },
     "metadata": {
      "needs_background": "light"
     },
     "output_type": "display_data"
    }
   ],
   "source": [
    "df_data['percent_change_intra_period'].hist(bins=100, range=(-1, 1))"
   ]
  },
  {
   "cell_type": "code",
   "execution_count": 16,
   "id": "b08a51c2",
   "metadata": {},
   "outputs": [],
   "source": [
    "def target_value(row):\n",
    "    if row['percent_change_intra_period'] > 0.09:\n",
    "        return 1\n",
    "    elif row['percent_change_intra_period'] < -0.09:\n",
    "        return -1\n",
    "    else:\n",
    "        return 0"
   ]
  },
  {
   "cell_type": "code",
   "execution_count": 17,
   "id": "bdc869b6",
   "metadata": {},
   "outputs": [],
   "source": [
    "df_data['target'] = df_data.apply(target_value, axis=1)"
   ]
  },
  {
   "cell_type": "markdown",
   "id": "f2fb25eb",
   "metadata": {},
   "source": [
    "## TA as features"
   ]
  },
  {
   "cell_type": "code",
   "execution_count": 18,
   "id": "67d6e7db",
   "metadata": {},
   "outputs": [],
   "source": [
    "import pandas_ta as ta"
   ]
  },
  {
   "cell_type": "code",
   "execution_count": 21,
   "id": "3ee350a1",
   "metadata": {},
   "outputs": [],
   "source": [
    "df_data.set_index('open_time', inplace=True)"
   ]
  },
  {
   "cell_type": "code",
   "execution_count": 23,
   "id": "9dedb140",
   "metadata": {},
   "outputs": [
    {
     "name": "stderr",
     "output_type": "stream",
     "text": [
      "0it [00:00, ?it/s]/opt/conda/lib/python3.7/site-packages/pandas_ta/overlap/linreg.py:52: RuntimeWarning: invalid value encountered in double_scalars\n",
      "  rd = (divisor * (length * y2_sum - y_sum * y_sum)) ** 0.5\n",
      "39it [05:01,  7.73s/it]\n"
     ]
    }
   ],
   "source": [
    "df_data.ta.strategy(\"Momentum\")"
   ]
  },
  {
   "cell_type": "code",
   "execution_count": null,
   "id": "29c8d13b",
   "metadata": {},
   "outputs": [],
   "source": []
  },
  {
   "cell_type": "code",
   "execution_count": null,
   "id": "a376d2df",
   "metadata": {},
   "outputs": [],
   "source": [
    "df_data.T.tail()"
   ]
  },
  {
   "cell_type": "code",
   "execution_count": null,
   "id": "918fd73e",
   "metadata": {},
   "outputs": [],
   "source": [
    "1"
   ]
  },
  {
   "cell_type": "code",
   "execution_count": null,
   "id": "1e6cd56a",
   "metadata": {},
   "outputs": [],
   "source": [
    "1"
   ]
  },
  {
   "cell_type": "markdown",
   "id": "3d121ca8",
   "metadata": {},
   "source": [
    "## Normalize df"
   ]
  },
  {
   "cell_type": "code",
   "execution_count": 56,
   "id": "f91b2498",
   "metadata": {},
   "outputs": [],
   "source": [
    "from sklearn.preprocessing import Normalizer"
   ]
  },
  {
   "cell_type": "code",
   "execution_count": null,
   "id": "e97aa2f9",
   "metadata": {},
   "outputs": [],
   "source": []
  },
  {
   "cell_type": "code",
   "execution_count": 31,
   "id": "4f8fbf2e",
   "metadata": {},
   "outputs": [],
   "source": [
    "train = df_data[df_data.open_time < pd.to_datetime('2021-06-01')]\n",
    "test = df_data[df_data.open_time >= pd.to_datetime('2021-06-01')]"
   ]
  },
  {
   "cell_type": "code",
   "execution_count": 35,
   "id": "22299cfd",
   "metadata": {},
   "outputs": [
    {
     "data": {
      "text/plain": [
       "Index(['open_time', 'open', 'high', 'low', 'close', 'volume', 'close_time',\n",
       "       'quote_asset_volume', 'number_of_trades', 'taker_buy_base_asset_volume',\n",
       "       'taker_buy_quote_asset_volume', 'can_be_ignored', 'symbol'],\n",
       "      dtype='object')"
      ]
     },
     "execution_count": 35,
     "metadata": {},
     "output_type": "execute_result"
    }
   ],
   "source": [
    "train.columns"
   ]
  },
  {
   "cell_type": "code",
   "execution_count": 44,
   "id": "364ca6b6",
   "metadata": {},
   "outputs": [],
   "source": [
    "to_normalize_price =  ['open', 'high', 'low', 'close',]\n",
    "to_normalize_volume = ['volume',\n",
    "       'quote_asset_volume', 'number_of_trades', 'taker_buy_base_asset_volume',\n",
    "       'taker_buy_quote_asset_volume',]"
   ]
  },
  {
   "cell_type": "code",
   "execution_count": 45,
   "id": "2eb251a1",
   "metadata": {},
   "outputs": [],
   "source": [
    "to_normalize = [to_normalize_price, to_normalize_volume]"
   ]
  },
  {
   "cell_type": "code",
   "execution_count": 57,
   "id": "71b6b1be",
   "metadata": {},
   "outputs": [],
   "source": [
    "scalers = []\n",
    "train_normalized = []\n",
    "test_normalized = []\n",
    "\n",
    "for col in to_normalize:\n",
    "    scaler = Normalizer()\n",
    "    train_X = scaler.fit_transform( train[col].values )\n",
    "    test_X = scaler.transform( test[col].values )\n",
    "    \n",
    "    scalers.append(scaler)\n",
    "    train_normalized.append(train_X)\n",
    "    test_normalized.append(test_X)"
   ]
  },
  {
   "cell_type": "code",
   "execution_count": 58,
   "id": "cdedf04c",
   "metadata": {},
   "outputs": [],
   "source": [
    "temp= pd.DataFrame(train_normalized[0])\n",
    "temp.plot()"
   ]
  },
  {
   "cell_type": "code",
   "execution_count": 60,
   "id": "7bda60a6",
   "metadata": {},
   "outputs": [
    {
     "data": {
      "text/plain": [
       "<matplotlib.axes._subplots.AxesSubplot at 0x7f59a0775350>"
      ]
     },
     "execution_count": 60,
     "metadata": {},
     "output_type": "execute_result"
    },
    {
     "data": {
      "image/png": "[encoded data removed]",
      "text/plain": [
       "<Figure size 432x288 with 1 Axes>"
      ]
     },
     "metadata": {
      "needs_background": "light"
     },
     "output_type": "display_data"
    }
   ],
   "source": [
    "temp= pd.DataFrame(test_normalized[0])\n",
    "temp.plot()"
   ]
  },
  {
   "cell_type": "code",
   "execution_count": null,
   "id": "8e0508da",
   "metadata": {},
   "outputs": [],
   "source": []
  }
 ],
 "metadata": {
  "environment": {
   "name": "common-cpu.m76",
   "type": "gcloud",
   "uri": "gcr.io/deeplearning-platform-release/base-cpu:m76"
  },
  "kernelspec": {
   "display_name": "Python 3 (ipykernel)",
   "language": "python",
   "name": "python3"
  },
  "language_info": {
   "codemirror_mode": {
    "name": "ipython",
    "version": 3
   },
   "file_extension": ".py",
   "mimetype": "text/x-python",
   "name": "python",
   "nbconvert_exporter": "python",
   "pygments_lexer": "ipython3",
   "version": "3.7.10"
  }
 },
 "nbformat": 4,
 "nbformat_minor": 5
}
